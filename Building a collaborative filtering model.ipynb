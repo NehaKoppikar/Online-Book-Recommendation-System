{
    "nbformat_minor": 1, 
    "cells": [
        {
            "source": "# Loading and viewing data", 
            "cell_type": "markdown", 
            "metadata": {}
        }, 
        {
            "execution_count": 1, 
            "cell_type": "code", 
            "metadata": {}, 
            "outputs": [
                {
                    "execution_count": 1, 
                    "metadata": {}, 
                    "data": {
                        "text/html": "<div>\n<style scoped>\n    .dataframe tbody tr th:only-of-type {\n        vertical-align: middle;\n    }\n\n    .dataframe tbody tr th {\n        vertical-align: top;\n    }\n\n    .dataframe thead th {\n        text-align: right;\n    }\n</style>\n<table border=\"1\" class=\"dataframe\">\n  <thead>\n    <tr style=\"text-align: right;\">\n      <th></th>\n      <th>User-ID</th>\n      <th>ISBN</th>\n      <th>Book-Rating</th>\n    </tr>\n  </thead>\n  <tbody>\n    <tr>\n      <th>0</th>\n      <td>276725</td>\n      <td>034545104X</td>\n      <td>0</td>\n    </tr>\n    <tr>\n      <th>1</th>\n      <td>276726</td>\n      <td>0155061224</td>\n      <td>5</td>\n    </tr>\n    <tr>\n      <th>2</th>\n      <td>276727</td>\n      <td>0446520802</td>\n      <td>0</td>\n    </tr>\n    <tr>\n      <th>3</th>\n      <td>276729</td>\n      <td>052165615X</td>\n      <td>3</td>\n    </tr>\n    <tr>\n      <th>4</th>\n      <td>276729</td>\n      <td>0521795028</td>\n      <td>6</td>\n    </tr>\n  </tbody>\n</table>\n</div>", 
                        "text/plain": "   User-ID        ISBN  Book-Rating\n0   276725  034545104X            0\n1   276726  0155061224            5\n2   276727  0446520802            0\n3   276729  052165615X            3\n4   276729  0521795028            6"
                    }, 
                    "output_type": "execute_result"
                }
            ], 
            "source": "# The code was removed by Watson Studio for sharing."
        }, 
        {
            "execution_count": 2, 
            "cell_type": "code", 
            "metadata": {}, 
            "outputs": [
                {
                    "output_type": "stream", 
                    "name": "stderr", 
                    "text": "b'Skipping line 6452: expected 8 fields, saw 9\\nSkipping line 43667: expected 8 fields, saw 10\\nSkipping line 51751: expected 8 fields, saw 9\\n'\nb'Skipping line 92038: expected 8 fields, saw 9\\nSkipping line 104319: expected 8 fields, saw 9\\nSkipping line 121768: expected 8 fields, saw 9\\n'\nb'Skipping line 144058: expected 8 fields, saw 9\\nSkipping line 150789: expected 8 fields, saw 9\\nSkipping line 157128: expected 8 fields, saw 9\\nSkipping line 180189: expected 8 fields, saw 9\\nSkipping line 185738: expected 8 fields, saw 9\\n'\nb'Skipping line 209388: expected 8 fields, saw 9\\nSkipping line 220626: expected 8 fields, saw 9\\nSkipping line 227933: expected 8 fields, saw 11\\nSkipping line 228957: expected 8 fields, saw 10\\nSkipping line 245933: expected 8 fields, saw 9\\nSkipping line 251296: expected 8 fields, saw 9\\nSkipping line 259941: expected 8 fields, saw 9\\nSkipping line 261529: expected 8 fields, saw 9\\n'\n/opt/conda/envs/Python36/lib/python3.6/site-packages/IPython/core/interactiveshell.py:3020: DtypeWarning: Columns (3) have mixed types. Specify dtype option on import or set low_memory=False.\n  interactivity=interactivity, compiler=compiler, result=result)\n"
                }, 
                {
                    "execution_count": 2, 
                    "metadata": {}, 
                    "data": {
                        "text/html": "<div>\n<style scoped>\n    .dataframe tbody tr th:only-of-type {\n        vertical-align: middle;\n    }\n\n    .dataframe tbody tr th {\n        vertical-align: top;\n    }\n\n    .dataframe thead th {\n        text-align: right;\n    }\n</style>\n<table border=\"1\" class=\"dataframe\">\n  <thead>\n    <tr style=\"text-align: right;\">\n      <th></th>\n      <th>ISBN</th>\n      <th>Book-Title</th>\n      <th>Book-Author</th>\n      <th>Year-Of-Publication</th>\n      <th>Publisher</th>\n      <th>Image-URL-S</th>\n      <th>Image-URL-M</th>\n      <th>Image-URL-L</th>\n    </tr>\n  </thead>\n  <tbody>\n    <tr>\n      <th>0</th>\n      <td>0195153448</td>\n      <td>Classical Mythology</td>\n      <td>Mark P. O. Morford</td>\n      <td>2002</td>\n      <td>Oxford University Press</td>\n      <td>http://images.amazon.com/images/P/0195153448.0...</td>\n      <td>http://images.amazon.com/images/P/0195153448.0...</td>\n      <td>http://images.amazon.com/images/P/0195153448.0...</td>\n    </tr>\n    <tr>\n      <th>1</th>\n      <td>0002005018</td>\n      <td>Clara Callan</td>\n      <td>Richard Bruce Wright</td>\n      <td>2001</td>\n      <td>HarperFlamingo Canada</td>\n      <td>http://images.amazon.com/images/P/0002005018.0...</td>\n      <td>http://images.amazon.com/images/P/0002005018.0...</td>\n      <td>http://images.amazon.com/images/P/0002005018.0...</td>\n    </tr>\n    <tr>\n      <th>2</th>\n      <td>0060973129</td>\n      <td>Decision in Normandy</td>\n      <td>Carlo D'Este</td>\n      <td>1991</td>\n      <td>HarperPerennial</td>\n      <td>http://images.amazon.com/images/P/0060973129.0...</td>\n      <td>http://images.amazon.com/images/P/0060973129.0...</td>\n      <td>http://images.amazon.com/images/P/0060973129.0...</td>\n    </tr>\n    <tr>\n      <th>3</th>\n      <td>0374157065</td>\n      <td>Flu: The Story of the Great Influenza Pandemic...</td>\n      <td>Gina Bari Kolata</td>\n      <td>1999</td>\n      <td>Farrar Straus Giroux</td>\n      <td>http://images.amazon.com/images/P/0374157065.0...</td>\n      <td>http://images.amazon.com/images/P/0374157065.0...</td>\n      <td>http://images.amazon.com/images/P/0374157065.0...</td>\n    </tr>\n    <tr>\n      <th>4</th>\n      <td>0393045218</td>\n      <td>The Mummies of Urumchi</td>\n      <td>E. J. W. Barber</td>\n      <td>1999</td>\n      <td>W. W. Norton &amp;amp; Company</td>\n      <td>http://images.amazon.com/images/P/0393045218.0...</td>\n      <td>http://images.amazon.com/images/P/0393045218.0...</td>\n      <td>http://images.amazon.com/images/P/0393045218.0...</td>\n    </tr>\n  </tbody>\n</table>\n</div>", 
                        "text/plain": "         ISBN                                         Book-Title  \\\n0  0195153448                                Classical Mythology   \n1  0002005018                                       Clara Callan   \n2  0060973129                               Decision in Normandy   \n3  0374157065  Flu: The Story of the Great Influenza Pandemic...   \n4  0393045218                             The Mummies of Urumchi   \n\n            Book-Author Year-Of-Publication                   Publisher  \\\n0    Mark P. O. Morford                2002     Oxford University Press   \n1  Richard Bruce Wright                2001       HarperFlamingo Canada   \n2          Carlo D'Este                1991             HarperPerennial   \n3      Gina Bari Kolata                1999        Farrar Straus Giroux   \n4       E. J. W. Barber                1999  W. W. Norton &amp; Company   \n\n                                         Image-URL-S  \\\n0  http://images.amazon.com/images/P/0195153448.0...   \n1  http://images.amazon.com/images/P/0002005018.0...   \n2  http://images.amazon.com/images/P/0060973129.0...   \n3  http://images.amazon.com/images/P/0374157065.0...   \n4  http://images.amazon.com/images/P/0393045218.0...   \n\n                                         Image-URL-M  \\\n0  http://images.amazon.com/images/P/0195153448.0...   \n1  http://images.amazon.com/images/P/0002005018.0...   \n2  http://images.amazon.com/images/P/0060973129.0...   \n3  http://images.amazon.com/images/P/0374157065.0...   \n4  http://images.amazon.com/images/P/0393045218.0...   \n\n                                         Image-URL-L  \n0  http://images.amazon.com/images/P/0195153448.0...  \n1  http://images.amazon.com/images/P/0002005018.0...  \n2  http://images.amazon.com/images/P/0060973129.0...  \n3  http://images.amazon.com/images/P/0374157065.0...  \n4  http://images.amazon.com/images/P/0393045218.0...  "
                    }, 
                    "output_type": "execute_result"
                }
            ], 
            "source": "body = client_d861f9d8f5e84b96a0da1d2baec38f0a.get_object(Bucket='onlinebookrecommendersystem-donotdelete-pr-xhkfop0pxalwme',Key='BX-Books.csv')['Body']\n# add missing __iter__ method, so pandas accepts body as file-like object\nif not hasattr(body, \"__iter__\"): body.__iter__ = types.MethodType( __iter__, body )\n\nbooks = pd.read_csv(body, sep=';', error_bad_lines=False, encoding='latin-1')\nbooks.head()\n"
        }, 
        {
            "execution_count": 3, 
            "cell_type": "code", 
            "metadata": {}, 
            "outputs": [
                {
                    "execution_count": 3, 
                    "metadata": {}, 
                    "data": {
                        "text/html": "<div>\n<style scoped>\n    .dataframe tbody tr th:only-of-type {\n        vertical-align: middle;\n    }\n\n    .dataframe tbody tr th {\n        vertical-align: top;\n    }\n\n    .dataframe thead th {\n        text-align: right;\n    }\n</style>\n<table border=\"1\" class=\"dataframe\">\n  <thead>\n    <tr style=\"text-align: right;\">\n      <th></th>\n      <th>User-ID</th>\n      <th>Location</th>\n      <th>Age</th>\n    </tr>\n  </thead>\n  <tbody>\n    <tr>\n      <th>0</th>\n      <td>1</td>\n      <td>nyc, new york, usa</td>\n      <td>NaN</td>\n    </tr>\n    <tr>\n      <th>1</th>\n      <td>2</td>\n      <td>stockton, california, usa</td>\n      <td>18.0</td>\n    </tr>\n    <tr>\n      <th>2</th>\n      <td>3</td>\n      <td>moscow, yukon territory, russia</td>\n      <td>NaN</td>\n    </tr>\n    <tr>\n      <th>3</th>\n      <td>4</td>\n      <td>porto, v.n.gaia, portugal</td>\n      <td>17.0</td>\n    </tr>\n    <tr>\n      <th>4</th>\n      <td>5</td>\n      <td>farnborough, hants, united kingdom</td>\n      <td>NaN</td>\n    </tr>\n  </tbody>\n</table>\n</div>", 
                        "text/plain": "   User-ID                            Location   Age\n0        1                  nyc, new york, usa   NaN\n1        2           stockton, california, usa  18.0\n2        3     moscow, yukon territory, russia   NaN\n3        4           porto, v.n.gaia, portugal  17.0\n4        5  farnborough, hants, united kingdom   NaN"
                    }, 
                    "output_type": "execute_result"
                }
            ], 
            "source": "body = client_d861f9d8f5e84b96a0da1d2baec38f0a.get_object(Bucket='onlinebookrecommendersystem-donotdelete-pr-xhkfop0pxalwme',Key='BX-Users.csv')['Body']\n# add missing __iter__ method, so pandas accepts body as file-like object\nif not hasattr(body, \"__iter__\"): body.__iter__ = types.MethodType( __iter__, body )\n\nusers = pd.read_csv(body, sep=';', error_bad_lines=False, encoding='latin-1')\nusers.head()\n"
        }, 
        {
            "source": "# Data Preprocessing", 
            "cell_type": "markdown", 
            "metadata": {}
        }, 
        {
            "execution_count": 4, 
            "cell_type": "code", 
            "metadata": {}, 
            "outputs": [], 
            "source": "#importing packages\nimport numpy as np\nimport matplotlib.pyplot as plt\nfrom sklearn.neighbors import NearestNeighbors\nfrom scipy.sparse import csr_matrix"
        }, 
        {
            "execution_count": 5, 
            "cell_type": "code", 
            "metadata": {}, 
            "outputs": [
                {
                    "output_type": "stream", 
                    "name": "stdout", 
                    "text": "(1149780, 3)\n['User-ID', 'ISBN', 'Book-Rating']\n"
                }
            ], 
            "source": "print(ratings.shape)\nprint(list(ratings.columns))"
        }, 
        {
            "source": "#### Understanding rating distribution", 
            "cell_type": "markdown", 
            "metadata": {}
        }, 
        {
            "execution_count": 6, 
            "cell_type": "code", 
            "metadata": {}, 
            "outputs": [
                {
                    "output_type": "display_data", 
                    "data": {
                        "image/png": "[encoded data removed]", 
                        "text/plain": "<Figure size 432x288 with 1 Axes>"
                    }, 
                    "metadata": {
                        "needs_background": "light"
                    }
                }
            ], 
            "source": "plt.rc('font', size=15)\nratings['Book-Rating'].value_counts(sort=False).plot(kind='bar')\nplt.title('Rating Distribution')\nplt.xlabel('Rating')\nplt.ylabel('Count')\nplt.show()"
        }, 
        {
            "execution_count": 7, 
            "cell_type": "code", 
            "metadata": {}, 
            "outputs": [
                {
                    "output_type": "stream", 
                    "name": "stdout", 
                    "text": "(271360, 8)\n['ISBN', 'Book-Title', 'Book-Author', 'Year-Of-Publication', 'Publisher', 'Image-URL-S', 'Image-URL-M', 'Image-URL-L']\n(278858, 3)\n['User-ID', 'Location', 'Age']\n"
                }
            ], 
            "source": "print(books.shape)\nprint(list(books.columns))\nprint(users.shape)\nprint(list(users.columns))"
        }, 
        {
            "source": "#### Understanding rating distribution", 
            "cell_type": "markdown", 
            "metadata": {}
        }, 
        {
            "execution_count": 8, 
            "cell_type": "code", 
            "metadata": {}, 
            "outputs": [
                {
                    "output_type": "display_data", 
                    "data": {
                        "image/png": "[encoded data removed]", 
                        "text/plain": "<Figure size 432x288 with 1 Axes>"
                    }, 
                    "metadata": {
                        "needs_background": "light"
                    }
                }
            ], 
            "source": "users['Age'].hist(bins=[0,10,20,30,40,50,100])\nplt.title('Age Distribution')\nplt.xlabel('Age')\nplt.ylabel('Count')\nplt.show()"
        }, 
        {
            "source": "To ensure statistical significance, we'll filter out the following observations:\n1. users who have rated less than 200 books\n2. books that have been rated by less than 100 users\n\nThis is considering that the above oservations won't be credible enough", 
            "cell_type": "markdown", 
            "metadata": {}
        }, 
        {
            "execution_count": 9, 
            "cell_type": "code", 
            "metadata": {}, 
            "outputs": [], 
            "source": "counts1 = ratings['User-ID'].value_counts()\nratings = ratings[ratings['User-ID'].isin(counts1[counts1 >= 200].index)]\ncounts = ratings['Book-Rating'].value_counts()\nratings = ratings[ratings['Book-Rating'].isin(counts[counts >= 100].index)]"
        }, 
        {
            "source": "# Model Building: Collaborative Filtering Using K-Nearest Neighbors", 
            "cell_type": "markdown", 
            "metadata": {}
        }, 
        {
            "source": "We plan to use KNN algorithm to build our collaborative filtering model. \nKNN is a machine learning algorithm. It clusters similar users based on similar rating patterns and make predictions based on that. \nFor example, we first present ratings in a matrix with the matrix having one row for user and one column for books.\nSo, first of all we'll combine ratings dataframe and books dataframe based on 'ISBN' column (which exists in both data frames) and remove the columns which are not required for building a collaborative filtering model. ", 
            "cell_type": "markdown", 
            "metadata": {}
        }, 
        {
            "execution_count": 10, 
            "cell_type": "code", 
            "metadata": {}, 
            "outputs": [
                {
                    "execution_count": 10, 
                    "metadata": {}, 
                    "data": {
                        "text/html": "<div>\n<style scoped>\n    .dataframe tbody tr th:only-of-type {\n        vertical-align: middle;\n    }\n\n    .dataframe tbody tr th {\n        vertical-align: top;\n    }\n\n    .dataframe thead th {\n        text-align: right;\n    }\n</style>\n<table border=\"1\" class=\"dataframe\">\n  <thead>\n    <tr style=\"text-align: right;\">\n      <th></th>\n      <th>User-ID</th>\n      <th>ISBN</th>\n      <th>Book-Rating</th>\n      <th>Book-Title</th>\n    </tr>\n  </thead>\n  <tbody>\n    <tr>\n      <th>0</th>\n      <td>277427</td>\n      <td>002542730X</td>\n      <td>10</td>\n      <td>Politically Correct Bedtime Stories: Modern Ta...</td>\n    </tr>\n    <tr>\n      <th>1</th>\n      <td>3363</td>\n      <td>002542730X</td>\n      <td>0</td>\n      <td>Politically Correct Bedtime Stories: Modern Ta...</td>\n    </tr>\n    <tr>\n      <th>2</th>\n      <td>11676</td>\n      <td>002542730X</td>\n      <td>6</td>\n      <td>Politically Correct Bedtime Stories: Modern Ta...</td>\n    </tr>\n    <tr>\n      <th>3</th>\n      <td>12538</td>\n      <td>002542730X</td>\n      <td>10</td>\n      <td>Politically Correct Bedtime Stories: Modern Ta...</td>\n    </tr>\n    <tr>\n      <th>4</th>\n      <td>13552</td>\n      <td>002542730X</td>\n      <td>0</td>\n      <td>Politically Correct Bedtime Stories: Modern Ta...</td>\n    </tr>\n  </tbody>\n</table>\n</div>", 
                        "text/plain": "   User-ID        ISBN  Book-Rating  \\\n0   277427  002542730X           10   \n1     3363  002542730X            0   \n2    11676  002542730X            6   \n3    12538  002542730X           10   \n4    13552  002542730X            0   \n\n                                          Book-Title  \n0  Politically Correct Bedtime Stories: Modern Ta...  \n1  Politically Correct Bedtime Stories: Modern Ta...  \n2  Politically Correct Bedtime Stories: Modern Ta...  \n3  Politically Correct Bedtime Stories: Modern Ta...  \n4  Politically Correct Bedtime Stories: Modern Ta...  "
                    }, 
                    "output_type": "execute_result"
                }
            ], 
            "source": "combine_book_rating = pd.merge(ratings, books, on='ISBN')\ncolumns=['Year-Of-Publication', 'Publisher', 'Book-Author','Image-URL-S', 'Image-URL-M', 'Image-URL-L']\ncombine_book_rating = combine_book_rating.drop(columns, axis=1)\ncombine_book_rating.head()"
        }, 
        {
            "source": "We then group by book titles and create a new column for total rating count. Thereby each row have unique book titles with their number of ratings in the adjacent column.", 
            "cell_type": "markdown", 
            "metadata": {}
        }, 
        {
            "execution_count": 11, 
            "cell_type": "code", 
            "metadata": {}, 
            "outputs": [
                {
                    "execution_count": 11, 
                    "metadata": {}, 
                    "data": {
                        "text/html": "<div>\n<style scoped>\n    .dataframe tbody tr th:only-of-type {\n        vertical-align: middle;\n    }\n\n    .dataframe tbody tr th {\n        vertical-align: top;\n    }\n\n    .dataframe thead th {\n        text-align: right;\n    }\n</style>\n<table border=\"1\" class=\"dataframe\">\n  <thead>\n    <tr style=\"text-align: right;\">\n      <th></th>\n      <th>Book-Title</th>\n      <th>totalRatingCount</th>\n    </tr>\n  </thead>\n  <tbody>\n    <tr>\n      <th>0</th>\n      <td>A Light in the Storm: The Civil War Diary of ...</td>\n      <td>2</td>\n    </tr>\n    <tr>\n      <th>1</th>\n      <td>Always Have Popsicles</td>\n      <td>1</td>\n    </tr>\n    <tr>\n      <th>2</th>\n      <td>Apple Magic (The Collector's series)</td>\n      <td>1</td>\n    </tr>\n    <tr>\n      <th>3</th>\n      <td>Beyond IBM: Leadership Marketing and Finance ...</td>\n      <td>1</td>\n    </tr>\n    <tr>\n      <th>4</th>\n      <td>Clifford Visita El Hospital (Clifford El Gran...</td>\n      <td>1</td>\n    </tr>\n  </tbody>\n</table>\n</div>", 
                        "text/plain": "                                          Book-Title  totalRatingCount\n0   A Light in the Storm: The Civil War Diary of ...                 2\n1                              Always Have Popsicles                 1\n2               Apple Magic (The Collector's series)                 1\n3   Beyond IBM: Leadership Marketing and Finance ...                 1\n4   Clifford Visita El Hospital (Clifford El Gran...                 1"
                    }, 
                    "output_type": "execute_result"
                }
            ], 
            "source": "combine_book_rating = combine_book_rating.dropna(axis = 0, subset = ['Book-Title'])\n\nbook_ratingCount = (combine_book_rating.\n     groupby(by = ['Book-Title'])['Book-Rating'].\n     count().\n     reset_index().\n     rename(columns = {'Book-Rating': 'totalRatingCount'})\n     [['Book-Title', 'totalRatingCount']]\n    )\nbook_ratingCount.head()"
        }, 
        {
            "source": "Now that we have the book titles and their rating count,we combine the book rating data with the total rating count data using left join (which means, that columns of book rating data will be in the left). This will help us know the popular books and also help us filter out the 'not-so-popular' books.\n", 
            "cell_type": "markdown", 
            "metadata": {}
        }, 
        {
            "execution_count": 12, 
            "cell_type": "code", 
            "metadata": {}, 
            "outputs": [
                {
                    "execution_count": 12, 
                    "metadata": {}, 
                    "data": {
                        "text/html": "<div>\n<style scoped>\n    .dataframe tbody tr th:only-of-type {\n        vertical-align: middle;\n    }\n\n    .dataframe tbody tr th {\n        vertical-align: top;\n    }\n\n    .dataframe thead th {\n        text-align: right;\n    }\n</style>\n<table border=\"1\" class=\"dataframe\">\n  <thead>\n    <tr style=\"text-align: right;\">\n      <th></th>\n      <th>User-ID</th>\n      <th>ISBN</th>\n      <th>Book-Rating</th>\n      <th>Book-Title</th>\n      <th>totalRatingCount</th>\n    </tr>\n  </thead>\n  <tbody>\n    <tr>\n      <th>0</th>\n      <td>277427</td>\n      <td>002542730X</td>\n      <td>10</td>\n      <td>Politically Correct Bedtime Stories: Modern Ta...</td>\n      <td>82</td>\n    </tr>\n    <tr>\n      <th>1</th>\n      <td>3363</td>\n      <td>002542730X</td>\n      <td>0</td>\n      <td>Politically Correct Bedtime Stories: Modern Ta...</td>\n      <td>82</td>\n    </tr>\n    <tr>\n      <th>2</th>\n      <td>11676</td>\n      <td>002542730X</td>\n      <td>6</td>\n      <td>Politically Correct Bedtime Stories: Modern Ta...</td>\n      <td>82</td>\n    </tr>\n    <tr>\n      <th>3</th>\n      <td>12538</td>\n      <td>002542730X</td>\n      <td>10</td>\n      <td>Politically Correct Bedtime Stories: Modern Ta...</td>\n      <td>82</td>\n    </tr>\n    <tr>\n      <th>4</th>\n      <td>13552</td>\n      <td>002542730X</td>\n      <td>0</td>\n      <td>Politically Correct Bedtime Stories: Modern Ta...</td>\n      <td>82</td>\n    </tr>\n  </tbody>\n</table>\n</div>", 
                        "text/plain": "   User-ID        ISBN  Book-Rating  \\\n0   277427  002542730X           10   \n1     3363  002542730X            0   \n2    11676  002542730X            6   \n3    12538  002542730X           10   \n4    13552  002542730X            0   \n\n                                          Book-Title  totalRatingCount  \n0  Politically Correct Bedtime Stories: Modern Ta...                82  \n1  Politically Correct Bedtime Stories: Modern Ta...                82  \n2  Politically Correct Bedtime Stories: Modern Ta...                82  \n3  Politically Correct Bedtime Stories: Modern Ta...                82  \n4  Politically Correct Bedtime Stories: Modern Ta...                82  "
                    }, 
                    "output_type": "execute_result"
                }
            ], 
            "source": "rating_with_totalRatingCount = combine_book_rating.merge(book_ratingCount, left_on = 'Book-Title', right_on = 'Book-Title', how = 'left')\nrating_with_totalRatingCount.head()"
        }, 
        {
            "source": "Understanding the rating count distribution", 
            "cell_type": "markdown", 
            "metadata": {}
        }, 
        {
            "execution_count": 13, 
            "cell_type": "code", 
            "metadata": {}, 
            "outputs": [
                {
                    "output_type": "stream", 
                    "name": "stdout", 
                    "text": "count   160576.000\nmean         3.044\nstd          7.428\nmin          1.000\n25%          1.000\n50%          1.000\n75%          2.000\nmax        365.000\nName: totalRatingCount, dtype: float64\n"
                }
            ], 
            "source": "pd.set_option('display.float_format', lambda x: '%.3f' % x)\nprint(book_ratingCount['totalRatingCount'].describe())"
        }, 
        {
            "source": "The median book has been rated once. \nLet's look at the books that are rated more number of times", 
            "cell_type": "markdown", 
            "metadata": {}
        }, 
        {
            "execution_count": 14, 
            "cell_type": "code", 
            "metadata": {}, 
            "outputs": [
                {
                    "output_type": "stream", 
                    "name": "stdout", 
                    "text": "0.900    5.000\n0.910    6.000\n0.920    7.000\n0.930    7.000\n0.940    8.000\n0.950   10.000\n0.960   11.000\n0.970   14.000\n0.980   19.000\n0.990   31.000\nName: totalRatingCount, dtype: float64\n"
                }
            ], 
            "source": "print(book_ratingCount['totalRatingCount'].quantile(np.arange(.9, 1, .01)))"
        }, 
        {
            "source": "We think that books that are rated more than 31 times are popuar. So, that will be our popularity threshold", 
            "cell_type": "markdown", 
            "metadata": {}
        }, 
        {
            "execution_count": 15, 
            "cell_type": "code", 
            "metadata": {}, 
            "outputs": [
                {
                    "execution_count": 15, 
                    "metadata": {}, 
                    "data": {
                        "text/html": "<div>\n<style scoped>\n    .dataframe tbody tr th:only-of-type {\n        vertical-align: middle;\n    }\n\n    .dataframe tbody tr th {\n        vertical-align: top;\n    }\n\n    .dataframe thead th {\n        text-align: right;\n    }\n</style>\n<table border=\"1\" class=\"dataframe\">\n  <thead>\n    <tr style=\"text-align: right;\">\n      <th></th>\n      <th>User-ID</th>\n      <th>ISBN</th>\n      <th>Book-Rating</th>\n      <th>Book-Title</th>\n      <th>totalRatingCount</th>\n    </tr>\n  </thead>\n  <tbody>\n    <tr>\n      <th>0</th>\n      <td>277427</td>\n      <td>002542730X</td>\n      <td>10</td>\n      <td>Politically Correct Bedtime Stories: Modern Ta...</td>\n      <td>82</td>\n    </tr>\n    <tr>\n      <th>1</th>\n      <td>3363</td>\n      <td>002542730X</td>\n      <td>0</td>\n      <td>Politically Correct Bedtime Stories: Modern Ta...</td>\n      <td>82</td>\n    </tr>\n    <tr>\n      <th>2</th>\n      <td>11676</td>\n      <td>002542730X</td>\n      <td>6</td>\n      <td>Politically Correct Bedtime Stories: Modern Ta...</td>\n      <td>82</td>\n    </tr>\n    <tr>\n      <th>3</th>\n      <td>12538</td>\n      <td>002542730X</td>\n      <td>10</td>\n      <td>Politically Correct Bedtime Stories: Modern Ta...</td>\n      <td>82</td>\n    </tr>\n    <tr>\n      <th>4</th>\n      <td>13552</td>\n      <td>002542730X</td>\n      <td>0</td>\n      <td>Politically Correct Bedtime Stories: Modern Ta...</td>\n      <td>82</td>\n    </tr>\n  </tbody>\n</table>\n</div>", 
                        "text/plain": "   User-ID        ISBN  Book-Rating  \\\n0   277427  002542730X           10   \n1     3363  002542730X            0   \n2    11676  002542730X            6   \n3    12538  002542730X           10   \n4    13552  002542730X            0   \n\n                                          Book-Title  totalRatingCount  \n0  Politically Correct Bedtime Stories: Modern Ta...                82  \n1  Politically Correct Bedtime Stories: Modern Ta...                82  \n2  Politically Correct Bedtime Stories: Modern Ta...                82  \n3  Politically Correct Bedtime Stories: Modern Ta...                82  \n4  Politically Correct Bedtime Stories: Modern Ta...                82  "
                    }, 
                    "output_type": "execute_result"
                }
            ], 
            "source": "popularity_threshold = 31\nrating_popular_book = rating_with_totalRatingCount.query('totalRatingCount >= @popularity_threshold')\nrating_popular_book.head()"
        }, 
        {
            "execution_count": 16, 
            "cell_type": "code", 
            "metadata": {}, 
            "outputs": [
                {
                    "execution_count": 16, 
                    "metadata": {}, 
                    "data": {
                        "text/plain": "(96831, 5)"
                    }, 
                    "output_type": "execute_result"
                }
            ], 
            "source": "rating_popular_book.shape"
        }, 
        {
            "execution_count": 17, 
            "cell_type": "code", 
            "metadata": {}, 
            "outputs": [
                {
                    "execution_count": 17, 
                    "metadata": {}, 
                    "data": {
                        "text/html": "<div>\n<style scoped>\n    .dataframe tbody tr th:only-of-type {\n        vertical-align: middle;\n    }\n\n    .dataframe tbody tr th {\n        vertical-align: top;\n    }\n\n    .dataframe thead th {\n        text-align: right;\n    }\n</style>\n<table border=\"1\" class=\"dataframe\">\n  <thead>\n    <tr style=\"text-align: right;\">\n      <th></th>\n      <th>User-ID</th>\n      <th>ISBN</th>\n      <th>Book-Rating</th>\n      <th>Book-Title</th>\n      <th>totalRatingCount</th>\n      <th>Location</th>\n    </tr>\n  </thead>\n  <tbody>\n    <tr>\n      <th>0</th>\n      <td>277427</td>\n      <td>002542730X</td>\n      <td>10</td>\n      <td>Politically Correct Bedtime Stories: Modern Ta...</td>\n      <td>82</td>\n      <td>gilbert, arizona, usa</td>\n    </tr>\n    <tr>\n      <th>1</th>\n      <td>3363</td>\n      <td>002542730X</td>\n      <td>0</td>\n      <td>Politically Correct Bedtime Stories: Modern Ta...</td>\n      <td>82</td>\n      <td>knoxville, tennessee, usa</td>\n    </tr>\n    <tr>\n      <th>2</th>\n      <td>11676</td>\n      <td>002542730X</td>\n      <td>6</td>\n      <td>Politically Correct Bedtime Stories: Modern Ta...</td>\n      <td>82</td>\n      <td>n/a, n/a, n/a</td>\n    </tr>\n    <tr>\n      <th>3</th>\n      <td>12538</td>\n      <td>002542730X</td>\n      <td>10</td>\n      <td>Politically Correct Bedtime Stories: Modern Ta...</td>\n      <td>82</td>\n      <td>byron, minnesota, usa</td>\n    </tr>\n    <tr>\n      <th>4</th>\n      <td>13552</td>\n      <td>002542730X</td>\n      <td>0</td>\n      <td>Politically Correct Bedtime Stories: Modern Ta...</td>\n      <td>82</td>\n      <td>cordova, tennessee, usa</td>\n    </tr>\n  </tbody>\n</table>\n</div>", 
                        "text/plain": "   User-ID        ISBN  Book-Rating  \\\n0   277427  002542730X           10   \n1     3363  002542730X            0   \n2    11676  002542730X            6   \n3    12538  002542730X           10   \n4    13552  002542730X            0   \n\n                                          Book-Title  totalRatingCount  \\\n0  Politically Correct Bedtime Stories: Modern Ta...                82   \n1  Politically Correct Bedtime Stories: Modern Ta...                82   \n2  Politically Correct Bedtime Stories: Modern Ta...                82   \n3  Politically Correct Bedtime Stories: Modern Ta...                82   \n4  Politically Correct Bedtime Stories: Modern Ta...                82   \n\n                    Location  \n0      gilbert, arizona, usa  \n1  knoxville, tennessee, usa  \n2              n/a, n/a, n/a  \n3      byron, minnesota, usa  \n4    cordova, tennessee, usa  "
                    }, 
                    "output_type": "execute_result"
                }
            ], 
            "source": "combined = rating_popular_book.merge(users, left_on = 'User-ID', right_on = 'User-ID', how = 'left')\nuser_rating=combined.drop('Age', axis=1)\nuser_rating.head()"
        }, 
        {
            "source": "The data is ready to be converted into a matrix now. We will use cosine similarity for clustering similar movies. \n\nIn cosine similarity each and every movie represented into vectors, these vectors will be populated into graphs.\n\nWe convert our table to a 2D matrix, and fill the missing values with zeros (since we will calculate distances between rating vectors). We then transform the values(ratings) of the matrix dataframe into a scipy sparse matrix for more efficient calculations. This matrix is then converted into a pivot table so that it can be converted into an array for the calculations.\n\nFinding the Nearest Neighbors We use unsupervised algorithms with sklearn.neighbors. The algorithm we use to compute the nearest neighbors is \u201cbrute\u201d, and we specify \u201cmetric=cosine\u201d so that the algorithm will calculate the cosine similarity between rating vectors. Finally, we fit the model.", 
            "cell_type": "markdown", 
            "metadata": {}
        }, 
        {
            "execution_count": 18, 
            "cell_type": "code", 
            "metadata": {}, 
            "outputs": [
                {
                    "execution_count": 18, 
                    "metadata": {}, 
                    "data": {
                        "text/plain": "NearestNeighbors(algorithm='brute', leaf_size=30, metric='cosine',\n         metric_params=None, n_jobs=None, n_neighbors=5, p=2, radius=1.0)"
                    }, 
                    "output_type": "execute_result"
                }
            ], 
            "source": "from scipy.sparse import csr_matrix\nuser_rating = user_rating.drop_duplicates(['User-ID', 'Book-Title'])\nuser_rating_pivot = user_rating.pivot(index = 'Book-Title', columns = 'User-ID', values = 'Book-Rating').fillna(0)\nuser_rating_matrix = csr_matrix(user_rating_pivot.values)\n\nfrom sklearn.neighbors import NearestNeighbors\n\n\nmodel_knn = NearestNeighbors(metric = 'cosine', algorithm = 'brute')\nmodel_knn.fit(user_rating_matrix)"
        }, 
        {
            "source": "The above is the model we have used.", 
            "cell_type": "markdown", 
            "metadata": {}
        }, 
        {
            "execution_count": 1, 
            "cell_type": "code", 
            "metadata": {}, 
            "outputs": [
                {
                    "ename": "NameError", 
                    "evalue": "name 'np' is not defined", 
                    "traceback": [
                        "\u001b[0;31m---------------------------------------------------------------------------\u001b[0m", 
                        "\u001b[0;31mNameError\u001b[0m                                 Traceback (most recent call last)", 
                        "\u001b[0;32m<ipython-input-1-2124dddf8e25>\u001b[0m in \u001b[0;36m<module>\u001b[0;34m\u001b[0m\n\u001b[0;32m----> 1\u001b[0;31m \u001b[0mquery_index\u001b[0m \u001b[0;34m=\u001b[0m \u001b[0mnp\u001b[0m\u001b[0;34m.\u001b[0m\u001b[0mrandom\u001b[0m\u001b[0;34m.\u001b[0m\u001b[0mchoice\u001b[0m\u001b[0;34m(\u001b[0m\u001b[0muser_rating_pivot\u001b[0m\u001b[0;34m.\u001b[0m\u001b[0mshape\u001b[0m\u001b[0;34m[\u001b[0m\u001b[0;36m0\u001b[0m\u001b[0;34m]\u001b[0m\u001b[0;34m)\u001b[0m\u001b[0;34m\u001b[0m\u001b[0;34m\u001b[0m\u001b[0m\n\u001b[0m\u001b[1;32m      2\u001b[0m \u001b[0mprint\u001b[0m\u001b[0;34m(\u001b[0m\u001b[0mquery_index\u001b[0m\u001b[0;34m)\u001b[0m\u001b[0;34m\u001b[0m\u001b[0;34m\u001b[0m\u001b[0m\n\u001b[1;32m      3\u001b[0m \u001b[0mdistances\u001b[0m\u001b[0;34m,\u001b[0m \u001b[0mindices\u001b[0m \u001b[0;34m=\u001b[0m \u001b[0mmodel_knn\u001b[0m\u001b[0;34m.\u001b[0m\u001b[0mkneighbors\u001b[0m\u001b[0;34m(\u001b[0m\u001b[0muser_rating_pivot\u001b[0m\u001b[0;34m.\u001b[0m\u001b[0miloc\u001b[0m\u001b[0;34m[\u001b[0m\u001b[0mquery_index\u001b[0m\u001b[0;34m,\u001b[0m\u001b[0;34m:\u001b[0m\u001b[0;34m]\u001b[0m\u001b[0;34m.\u001b[0m\u001b[0mvalues\u001b[0m\u001b[0;34m.\u001b[0m\u001b[0mreshape\u001b[0m\u001b[0;34m(\u001b[0m\u001b[0;36m1\u001b[0m\u001b[0;34m,\u001b[0m \u001b[0;34m-\u001b[0m\u001b[0;36m1\u001b[0m\u001b[0;34m)\u001b[0m\u001b[0;34m,\u001b[0m \u001b[0mn_neighbors\u001b[0m \u001b[0;34m=\u001b[0m \u001b[0;36m10\u001b[0m\u001b[0;34m)\u001b[0m\u001b[0;34m\u001b[0m\u001b[0;34m\u001b[0m\u001b[0m\n", 
                        "\u001b[0;31mNameError\u001b[0m: name 'np' is not defined"
                    ], 
                    "output_type": "error"
                }
            ], 
            "source": "query_index = np.random.choice(user_rating_pivot.shape[0])\nprint(query_index)\ndistances, indices = model_knn.kneighbors(user_rating_pivot.iloc[query_index,:].values.reshape(1, -1), n_neighbors = 10)"
        }, 
        {
            "source": "The above code randomly chooses an index of a book and calculates the the distances and indices of 5 closest books.\n\nNow, let's see how the matrix of the book looks like.", 
            "cell_type": "markdown", 
            "metadata": {}
        }, 
        {
            "execution_count": 46, 
            "cell_type": "code", 
            "metadata": {}, 
            "outputs": [
                {
                    "execution_count": 46, 
                    "metadata": {}, 
                    "data": {
                        "text/plain": "array([[ 0.,  0.,  0.,  0.,  0.,  0.,  0.,  0.,  0.,  0.,  0.,  0.,  0.,\n         0.,  0.,  0.,  0.,  0.,  0.,  0.,  0.,  0.,  0.,  0.,  0.,  0.,\n         0.,  0.,  0.,  0.,  0.,  0.,  0.,  0.,  0.,  0.,  0.,  0.,  0.,\n         0.,  0.,  0.,  0.,  0.,  0.,  0.,  0.,  0.,  0.,  0.,  0.,  0.,\n         0.,  0.,  0.,  0.,  0.,  0.,  0.,  0.,  0.,  0.,  0.,  0.,  0.,\n         0.,  0.,  0.,  0.,  0.,  0.,  0.,  0.,  0.,  0.,  0.,  0.,  0.,\n         0.,  0.,  0.,  0.,  0.,  0.,  0.,  0.,  0.,  0.,  0., 10.,  0.,\n         0.,  0.,  0.,  0.,  0.,  0.,  0.,  0.,  0.,  0.,  0.,  0.,  0.,\n         0.,  0.,  0.,  0.,  0.,  0.,  0.,  0.,  0.,  0.,  0.,  0.,  0.,\n         0.,  0.,  0.,  0.,  0.,  0.,  0.,  0.,  0.,  0.,  0.,  0.,  0.,\n         0.,  0.,  0.,  0.,  0.,  0.,  0.,  0.,  0.,  0.,  0.,  0.,  0.,\n         0.,  0.,  0.,  0.,  0.,  0.,  0.,  0.,  0.,  0.,  0.,  0.,  0.,\n         0.,  0.,  0.,  0.,  0.,  0.,  0.,  0.,  0.,  0.,  0.,  0.,  0.,\n         0.,  0.,  0.,  0.,  0.,  0.,  0.,  0.,  0.,  0.,  0.,  0.,  0.,\n         0.,  0.,  0.,  0.,  0.,  0.,  0.,  0.,  0.,  0.,  0.,  0.,  0.,\n         0.,  0.,  0.,  0.,  0.,  0.,  0.,  0.,  0.,  0.,  0.,  0.,  0.,\n         0.,  0.,  0.,  0.,  0.,  0.,  0.,  0.,  0.,  0.,  0.,  0.,  0.,\n         0.,  0.,  0.,  0.,  0.,  0.,  0.,  0.,  0.,  0.,  0.,  0.,  0.,\n         0.,  0.,  0.,  0.,  0.,  0.,  0.,  0.,  0.,  0.,  0.,  0.,  0.,\n         0.,  0.,  0.,  0.,  0.,  0.,  0.,  0.,  0.,  0.,  0.,  0.,  0.,\n         0.,  0.,  0.,  0.,  0.,  0.,  0.,  0.,  0.,  0.,  0.,  0.,  0.,\n         0.,  0.,  0.,  0.,  0.,  0.,  0.,  0.,  0.,  0.,  0.,  0.,  0.,\n         0.,  0.,  0.,  0.,  0.,  0.,  0.,  0.,  0.,  0.,  0.,  0.,  0.,\n         0.,  0.,  0.,  0.,  0.,  0.,  0.,  0.,  0.,  0.,  0.,  0.,  0.,\n         0.,  0.,  0.,  0.,  0.,  0.,  0.,  0.,  0.,  0.,  0.,  0.,  0.,\n         0.,  0.,  0.,  0.,  0.,  0.,  0.,  0.,  0.,  0.,  0.,  0.,  0.,\n         0.,  0.,  0.,  0.,  0.,  0.,  0.,  0.,  0.,  0.,  0.,  0.,  0.,\n         0.,  0.,  0.,  0.,  0.,  0.,  0.,  0.,  0.,  0.,  0.,  0.,  0.,\n         0.,  0.,  0.,  0.,  0.,  0.,  0.,  0.,  0.,  0.,  0.,  0.,  0.,\n         0.,  0.,  0.,  0.,  0.,  0.,  0.,  0.,  0.,  0.,  0.,  0.,  0.,\n         0.,  0.,  0.,  0.,  0.,  0.,  0.,  0.,  0.,  0.,  0.,  0.,  0.,\n         0.,  0.,  0.,  0.,  0.,  0.,  0.,  0.,  0.,  0.,  0.,  0.,  0.,\n         0.,  0.,  0.,  0.,  0.,  0.,  0.,  0.,  0.,  0.,  0.,  0.,  0.,\n         0.,  0.,  0.,  0.,  0.,  0.,  0.,  0.,  0.,  0.,  0.,  0.,  0.,\n         0.,  0.,  0.,  0.,  0.,  0.,  0.,  0.,  0.,  0.,  0.,  0.,  0.,\n         0.,  0.,  0.,  0.,  0.,  0.,  0.,  0.,  0.,  0.,  0.,  0.,  0.,\n         0.,  0.,  0.,  0.,  0.,  0.,  0.,  0.,  0.,  0.,  0.,  0.,  0.,\n         0.,  0.,  0.,  0.,  0.,  0.,  0.,  0.,  0.,  0.,  0.,  0.,  0.,\n         0.,  0.,  0.,  0.,  0.,  0.,  0.,  0.,  0.,  0.,  0.,  0.,  0.,\n         0.,  0.,  0.,  0.,  0.,  0.,  0.,  0.,  0.,  0.,  0.,  0.,  0.,\n         0.,  0.,  0.,  0.,  0.,  0.,  0.,  0.,  0.,  0.,  0.,  0.,  0.,\n         0.,  0.,  0.,  0.,  0.,  0.,  0.,  0.,  0.,  0.,  0.,  0.,  0.,\n         0.,  0.,  0.,  0.,  0.,  0.,  0.,  0.,  0.,  0.,  0.,  0.,  0.,\n         0.,  0.,  0.,  0.,  0.,  0.,  0.,  0.,  0.,  0.,  0.,  0.,  0.,\n         0.,  0.,  0.,  0.,  0.,  0.,  0.,  0.,  0.,  0.,  0.,  0.,  0.,\n         0.,  0.,  0.,  0.,  0.,  0.,  0.,  0.,  0.,  0.,  0.,  0.,  0.,\n         0.,  0.,  0.,  5.,  0.,  0.,  0.,  0.,  0.,  0.,  0.,  0.,  0.,\n         0.,  0.,  0.,  0.,  0.,  0.,  0.,  0.,  0.,  0.,  0.,  0.,  0.,\n         0.,  0.,  0.,  0.,  0.,  0.,  0.,  0.,  0.,  0.,  0.,  0.,  0.,\n         0.,  0.,  0.,  0.,  0.,  0.,  0.,  0.,  0.,  0.,  0.,  0.,  0.,\n         0.,  0.,  0.,  0.,  0.,  0.,  0.,  0.,  0.,  0.,  0.,  0.,  0.,\n         0.,  0.,  0.,  0.,  0.,  0.,  0.,  0.,  0.,  0.,  0.,  0.,  0.,\n         0.,  0.,  0.,  0.,  0.,  0.,  0.,  0.,  0.,  0.,  0.,  0.,  5.,\n         0.,  2.,  0.,  0.,  0.,  0.,  0.,  0.,  0.,  0.,  0.,  0.,  0.,\n         0.,  0.,  0.,  0.,  0.,  0.,  0.,  0.,  0.,  0.,  0.,  0.,  0.,\n         0.,  0.,  0.,  0.,  0.,  0.,  0.,  0.,  0.,  0.,  0.,  0.,  0.,\n         0.,  0.,  0.,  0.,  0.,  0.,  0.,  0.,  0.,  0.,  0.,  0.,  0.,\n         0.,  0.,  0.,  0.,  0.,  0.,  0.,  0.,  0.,  0.,  0.,  0.,  0.,\n         0.,  0.,  0.,  0.,  0.,  0.,  0.,  0.,  0.,  0.,  0.,  0.,  0.,\n         0.,  0.,  0.,  0.,  0.,  0.,  0.,  0.,  0.,  0.,  0.,  0.,  0.,\n         0.,  0.,  0.,  0.,  0.,  0.,  0.,  0.,  0.,  7.,  0.,  0.,  0.,\n         0.,  0.,  0.,  0.,  0.,  0.,  0.,  0.,  0.,  0.,  0.,  0.,  0.,\n         0.,  0.,  0.,  0.,  0.,  0.,  0.,  0.,  0.,  0.,  0.,  0.,  0.,\n         0.,  0.,  0.,  0.,  0.,  0.,  0.,  0.,  0.,  0.,  0.,  0.,  0.,\n         0.,  0.,  0.,  0.,  0.,  0.,  0.,  0.,  0.,  0.,  0.,  0.,  0.,\n         0.,  0.,  0.,  0.,  0.,  0.,  0.,  0.,  0.,  0.,  0.,  0.,  0.,\n         0.,  0.,  0.,  0.,  0.,  0.,  0.,  0.,  0.,  0.,  0.,  0.,  0.,\n         0.,  0.,  0.,  0.,  0.,  0.,  0.,  0.,  0.,  0.,  0.,  0.,  0.,\n         0.,  0.,  0.,  0.,  0.,  0.,  0.,  0.,  0.,  0.,  0.,  0.,  0.,\n         0.,  0.]])"
                    }, 
                    "output_type": "execute_result"
                }
            ], 
            "source": "user_rating_pivot.iloc[query_index,:].values.reshape(1,-1)"
        }, 
        {
            "source": "# Results", 
            "cell_type": "markdown", 
            "metadata": {}
        }, 
        {
            "source": "Let's see the name of the movie that is randomly chosen.", 
            "cell_type": "markdown", 
            "metadata": {}
        }, 
        {
            "execution_count": 47, 
            "cell_type": "code", 
            "metadata": {}, 
            "outputs": [
                {
                    "execution_count": 47, 
                    "metadata": {}, 
                    "data": {
                        "text/plain": "'After the Fire'"
                    }, 
                    "output_type": "execute_result"
                }
            ], 
            "source": "user_rating_pivot.index[query_index]"
        }, 
        {
            "source": "Based on the above book, we see 5 recommended books (along with their indices and distances - how similar is this particular book to the book that was liked).", 
            "cell_type": "markdown", 
            "metadata": {}
        }, 
        {
            "execution_count": 48, 
            "cell_type": "code", 
            "metadata": {}, 
            "outputs": [
                {
                    "output_type": "stream", 
                    "name": "stdout", 
                    "text": "Recommendations for After the Fire:\n\n1: Wild Justice, with distance of 0.40482186977570034:\n2: Fatal Cure, with distance of 0.46870788944033626:\n3: Smart Women, with distance of 0.5332019329005259:\n4: Blue Moon, with distance of 0.5421970730452377:\n5: Blindsight, with distance of 0.5862265490464966:\n6: The Sky Is Falling, with distance of 0.6032839124339906:\n7: Promises, with distance of 0.6082586056155472:\n8: Contagion, with distance of 0.6099884413925267:\n9: The Outside Man, with distance of 0.6106767854780957:\n"
                }
            ], 
            "source": "for i in range(0, len(distances.flatten())):\n    if i == 0:\n        print('Recommendations for {0}:\\n'.format(user_rating_pivot.index[query_index]))\n    else:\n        print('{0}: {1}, with distance of {2}:'.format(i, user_rating_pivot.index[indices.flatten()[i]], distances.flatten()[i]))"
        }, 
        {
            "execution_count": 40, 
            "cell_type": "code", 
            "metadata": {}, 
            "outputs": [
                {
                    "execution_count": 40, 
                    "metadata": {}, 
                    "data": {
                        "text/html": "<div>\n<style scoped>\n    .dataframe tbody tr th:only-of-type {\n        vertical-align: middle;\n    }\n\n    .dataframe tbody tr th {\n        vertical-align: top;\n    }\n\n    .dataframe thead th {\n        text-align: right;\n    }\n</style>\n<table border=\"1\" class=\"dataframe\">\n  <thead>\n    <tr style=\"text-align: right;\">\n      <th>Book-Title</th>\n      <th>10 Lb. Penalty</th>\n      <th>16 Lighthouse Road</th>\n      <th>1984</th>\n      <th>1st to Die: A Novel</th>\n      <th>2010: Odyssey Two</th>\n      <th>204 Rosewood Lane</th>\n      <th>24 Hours</th>\n      <th>2nd Chance</th>\n      <th>3rd Degree</th>\n      <th>4 Blondes</th>\n      <th>...</th>\n      <th>Word Freak: Heartbreak, Triumph, Genius, and Obsession in the World of Competitive Scrabble Players</th>\n      <th>World of Pies : A Novel</th>\n      <th>Writ of Execution</th>\n      <th>Wuthering Heights</th>\n      <th>Wuthering Heights (Penguin Classics)</th>\n      <th>Year of Wonders</th>\n      <th>You Belong To Me</th>\n      <th>Zen and the Art of Motorcycle Maintenance: An Inquiry into Values</th>\n      <th>Zoya</th>\n      <th>\\O\\\" Is for Outlaw\"</th>\n    </tr>\n    <tr>\n      <th>User-ID</th>\n      <th></th>\n      <th></th>\n      <th></th>\n      <th></th>\n      <th></th>\n      <th></th>\n      <th></th>\n      <th></th>\n      <th></th>\n      <th></th>\n      <th></th>\n      <th></th>\n      <th></th>\n      <th></th>\n      <th></th>\n      <th></th>\n      <th></th>\n      <th></th>\n      <th></th>\n      <th></th>\n      <th></th>\n    </tr>\n  </thead>\n  <tbody>\n    <tr>\n      <th>254</th>\n      <td>0.000</td>\n      <td>0.000</td>\n      <td>9.000</td>\n      <td>0.000</td>\n      <td>0.000</td>\n      <td>0.000</td>\n      <td>0.000</td>\n      <td>0.000</td>\n      <td>0.000</td>\n      <td>0.000</td>\n      <td>...</td>\n      <td>0.000</td>\n      <td>0.000</td>\n      <td>0.000</td>\n      <td>0.000</td>\n      <td>0.000</td>\n      <td>0.000</td>\n      <td>0.000</td>\n      <td>0.000</td>\n      <td>0.000</td>\n      <td>0.000</td>\n    </tr>\n    <tr>\n      <th>2276</th>\n      <td>0.000</td>\n      <td>0.000</td>\n      <td>0.000</td>\n      <td>0.000</td>\n      <td>0.000</td>\n      <td>0.000</td>\n      <td>0.000</td>\n      <td>10.000</td>\n      <td>0.000</td>\n      <td>0.000</td>\n      <td>...</td>\n      <td>0.000</td>\n      <td>0.000</td>\n      <td>0.000</td>\n      <td>0.000</td>\n      <td>0.000</td>\n      <td>0.000</td>\n      <td>0.000</td>\n      <td>0.000</td>\n      <td>0.000</td>\n      <td>0.000</td>\n    </tr>\n    <tr>\n      <th>2766</th>\n      <td>0.000</td>\n      <td>0.000</td>\n      <td>0.000</td>\n      <td>0.000</td>\n      <td>0.000</td>\n      <td>0.000</td>\n      <td>0.000</td>\n      <td>0.000</td>\n      <td>0.000</td>\n      <td>0.000</td>\n      <td>...</td>\n      <td>0.000</td>\n      <td>0.000</td>\n      <td>0.000</td>\n      <td>0.000</td>\n      <td>0.000</td>\n      <td>0.000</td>\n      <td>0.000</td>\n      <td>0.000</td>\n      <td>0.000</td>\n      <td>0.000</td>\n    </tr>\n    <tr>\n      <th>2977</th>\n      <td>0.000</td>\n      <td>0.000</td>\n      <td>0.000</td>\n      <td>0.000</td>\n      <td>0.000</td>\n      <td>0.000</td>\n      <td>0.000</td>\n      <td>0.000</td>\n      <td>0.000</td>\n      <td>0.000</td>\n      <td>...</td>\n      <td>0.000</td>\n      <td>0.000</td>\n      <td>0.000</td>\n      <td>0.000</td>\n      <td>0.000</td>\n      <td>7.000</td>\n      <td>0.000</td>\n      <td>0.000</td>\n      <td>0.000</td>\n      <td>0.000</td>\n    </tr>\n    <tr>\n      <th>3363</th>\n      <td>0.000</td>\n      <td>0.000</td>\n      <td>0.000</td>\n      <td>0.000</td>\n      <td>0.000</td>\n      <td>0.000</td>\n      <td>0.000</td>\n      <td>0.000</td>\n      <td>0.000</td>\n      <td>0.000</td>\n      <td>...</td>\n      <td>0.000</td>\n      <td>0.000</td>\n      <td>0.000</td>\n      <td>0.000</td>\n      <td>0.000</td>\n      <td>0.000</td>\n      <td>0.000</td>\n      <td>0.000</td>\n      <td>0.000</td>\n      <td>0.000</td>\n    </tr>\n  </tbody>\n</table>\n<p>5 rows \u00d7 1656 columns</p>\n</div>", 
                        "text/plain": "Book-Title  10 Lb. Penalty  16 Lighthouse Road  1984  1st to Die: A Novel  \\\nUser-ID                                                                     \n254                  0.000               0.000 9.000                0.000   \n2276                 0.000               0.000 0.000                0.000   \n2766                 0.000               0.000 0.000                0.000   \n2977                 0.000               0.000 0.000                0.000   \n3363                 0.000               0.000 0.000                0.000   \n\nBook-Title  2010: Odyssey Two  204 Rosewood Lane  24 Hours  2nd Chance  \\\nUser-ID                                                                  \n254                     0.000              0.000     0.000       0.000   \n2276                    0.000              0.000     0.000      10.000   \n2766                    0.000              0.000     0.000       0.000   \n2977                    0.000              0.000     0.000       0.000   \n3363                    0.000              0.000     0.000       0.000   \n\nBook-Title  3rd Degree  4 Blondes  ...  \\\nUser-ID                            ...   \n254              0.000      0.000  ...   \n2276             0.000      0.000  ...   \n2766             0.000      0.000  ...   \n2977             0.000      0.000  ...   \n3363             0.000      0.000  ...   \n\nBook-Title  Word Freak: Heartbreak, Triumph, Genius, and Obsession in the World of Competitive Scrabble Players  \\\nUser-ID                                                                                                           \n254                                                     0.000                                                     \n2276                                                    0.000                                                     \n2766                                                    0.000                                                     \n2977                                                    0.000                                                     \n3363                                                    0.000                                                     \n\nBook-Title  World of Pies : A Novel  Writ of Execution  Wuthering Heights  \\\nUser-ID                                                                     \n254                           0.000              0.000              0.000   \n2276                          0.000              0.000              0.000   \n2766                          0.000              0.000              0.000   \n2977                          0.000              0.000              0.000   \n3363                          0.000              0.000              0.000   \n\nBook-Title  Wuthering Heights (Penguin Classics)  Year of Wonders  \\\nUser-ID                                                             \n254                                        0.000            0.000   \n2276                                       0.000            0.000   \n2766                                       0.000            0.000   \n2977                                       0.000            7.000   \n3363                                       0.000            0.000   \n\nBook-Title  You Belong To Me  \\\nUser-ID                        \n254                    0.000   \n2276                   0.000   \n2766                   0.000   \n2977                   0.000   \n3363                   0.000   \n\nBook-Title  Zen and the Art of Motorcycle Maintenance: An Inquiry into Values  \\\nUser-ID                                                                         \n254                                                     0.000                   \n2276                                                    0.000                   \n2766                                                    0.000                   \n2977                                                    0.000                   \n3363                                                    0.000                   \n\nBook-Title  Zoya  \\O\\\" Is for Outlaw\"  \nUser-ID                                \n254        0.000                0.000  \n2276       0.000                0.000  \n2766       0.000                0.000  \n2977       0.000                0.000  \n3363       0.000                0.000  \n\n[5 rows x 1656 columns]"
                    }, 
                    "output_type": "execute_result"
                }
            ], 
            "source": "user_rating_pivot2 = user_rating.pivot(index = 'User-ID', columns = 'Book-Title', values = 'Book-Rating').fillna(0)\nuser_rating_pivot2.head()"
        }, 
        {
            "execution_count": 24, 
            "cell_type": "code", 
            "metadata": {}, 
            "outputs": [
                {
                    "execution_count": 24, 
                    "metadata": {}, 
                    "data": {
                        "text/plain": "(899, 1656)"
                    }, 
                    "output_type": "execute_result"
                }
            ], 
            "source": "user_rating_pivot2.shape"
        }, 
        {
            "execution_count": 25, 
            "cell_type": "code", 
            "metadata": {}, 
            "outputs": [
                {
                    "execution_count": 25, 
                    "metadata": {}, 
                    "data": {
                        "text/plain": "(1656, 899)"
                    }, 
                    "output_type": "execute_result"
                }
            ], 
            "source": "X = user_rating_pivot2.values.T\nX.shape"
        }, 
        {
            "execution_count": 26, 
            "cell_type": "code", 
            "metadata": {}, 
            "outputs": [
                {
                    "execution_count": 26, 
                    "metadata": {}, 
                    "data": {
                        "text/plain": "(1656, 12)"
                    }, 
                    "output_type": "execute_result"
                }
            ], 
            "source": "from sklearn.decomposition import TruncatedSVD\n\nSVD = TruncatedSVD(n_components=12, random_state=17)\nmatrix = SVD.fit_transform(X)\nmatrix.shape"
        }, 
        {
            "execution_count": 27, 
            "cell_type": "code", 
            "metadata": {}, 
            "outputs": [
                {
                    "execution_count": 27, 
                    "metadata": {}, 
                    "data": {
                        "text/plain": "(1656, 1656)"
                    }, 
                    "output_type": "execute_result"
                }
            ], 
            "source": "import warnings\nwarnings.filterwarnings(\"ignore\",category =RuntimeWarning)\ncorr = np.corrcoef(matrix)\ncorr.shape"
        }, 
        {
            "execution_count": 49, 
            "cell_type": "code", 
            "metadata": {}, 
            "outputs": [
                {
                    "output_type": "stream", 
                    "name": "stdout", 
                    "text": "80\n"
                }
            ], 
            "source": "book_title = user_rating_pivot2.columns\nbook_list = list(book_title)\ncoffey_hands = book_list.index(\"After the Fire\")\nprint(coffey_hands)"
        }, 
        {
            "execution_count": 50, 
            "cell_type": "code", 
            "metadata": {}, 
            "outputs": [
                {
                    "execution_count": 50, 
                    "metadata": {}, 
                    "data": {
                        "text/plain": "array([ 0.46513255,  0.28658163,  0.07655111, ..., -0.02149621,\n        0.02872947,  0.28007098])"
                    }, 
                    "output_type": "execute_result"
                }
            ], 
            "source": "corr_coffey_hands  = corr[coffey_hands]\ncorr_coffey_hands"
        }, 
        {
            "execution_count": 51, 
            "cell_type": "code", 
            "metadata": {
                "scrolled": true
            }, 
            "outputs": [
                {
                    "execution_count": 51, 
                    "metadata": {}, 
                    "data": {
                        "text/plain": "['After the Fire',\n 'Almost Paradise',\n 'And Then You Die',\n 'First Offense',\n \"Here on Earth (Oprah's Book Club)\",\n 'Interest of Justice',\n 'Merrick (Vampire Chronicles)',\n 'Promises',\n 'The Outside Man',\n 'The Sky Is Falling',\n 'Wild Justice']"
                    }, 
                    "output_type": "execute_result"
                }
            ], 
            "source": "list(book_title[(corr_coffey_hands>=0.9) & (corr_coffey_hands<=1)])"
        }, 
        {
            "execution_count": null, 
            "cell_type": "code", 
            "metadata": {}, 
            "outputs": [], 
            "source": ""
        }
    ], 
    "metadata": {
        "kernelspec": {
            "display_name": "Python 3.6", 
            "name": "python3", 
            "language": "python"
        }, 
        "language_info": {
            "mimetype": "text/x-python", 
            "nbconvert_exporter": "python", 
            "version": "3.6.8", 
            "name": "python", 
            "file_extension": ".py", 
            "pygments_lexer": "ipython3", 
            "codemirror_mode": {
                "version": 3, 
                "name": "ipython"
            }
        }
    }, 
    "nbformat": 4
}